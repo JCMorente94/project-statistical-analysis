{
 "cells": [
  {
   "cell_type": "markdown",
   "metadata": {},
   "source": [
    "# Battleship Proyecto"
   ]
  },
  {
   "cell_type": "markdown",
   "metadata": {},
   "source": [
    "Este proyecto consiste en simular el juego de hundir la flota con diferentes tamaños de barcos y diferentes estrategias"
   ]
  },
  {
   "cell_type": "code",
   "execution_count": 261,
   "metadata": {
    "ExecuteTime": {
     "end_time": "2020-03-27T16:25:55.442727Z",
     "start_time": "2020-03-27T16:25:55.436738Z"
    }
   },
   "outputs": [],
   "source": [
    "import numpy as np\n",
    "import random \n",
    "import plotly.graph_objects as go\n",
    "import matplotlib.pyplot as plt\n",
    "from scipy import stats"
   ]
  },
  {
   "cell_type": "markdown",
   "metadata": {},
   "source": [
    "#### Definimos una funcion para crear el tablero vacio"
   ]
  },
  {
   "cell_type": "markdown",
   "metadata": {},
   "source": [
    "El tablero lo definimos como una matriz de ceros y unos, donde los ceros representan las casillas vacias y los unos las casillas donde hay barcos"
   ]
  },
  {
   "cell_type": "code",
   "execution_count": 262,
   "metadata": {
    "ExecuteTime": {
     "end_time": "2020-03-27T16:25:56.119652Z",
     "start_time": "2020-03-27T16:25:56.114668Z"
    }
   },
   "outputs": [],
   "source": [
    "def board(n):\n",
    "    \"\"\"Funcion que crea un tablero vacio (lleno de ceros)\"\"\"\n",
    "    return np.zeros((n,n))\n"
   ]
  },
  {
   "cell_type": "code",
   "execution_count": 263,
   "metadata": {
    "ExecuteTime": {
     "end_time": "2020-03-27T16:25:56.307210Z",
     "start_time": "2020-03-27T16:25:56.301227Z"
    }
   },
   "outputs": [
    {
     "name": "stdout",
     "output_type": "stream",
     "text": [
      "[[0. 0. 0. 0. 0. 0. 0. 0. 0. 0.]\n",
      " [0. 0. 0. 0. 0. 0. 0. 0. 0. 0.]\n",
      " [0. 0. 0. 0. 0. 0. 0. 0. 0. 0.]\n",
      " [0. 0. 0. 0. 0. 0. 0. 0. 0. 0.]\n",
      " [0. 0. 0. 0. 0. 0. 0. 0. 0. 0.]\n",
      " [0. 0. 0. 0. 0. 0. 0. 0. 0. 0.]\n",
      " [0. 0. 0. 0. 0. 0. 0. 0. 0. 0.]\n",
      " [0. 0. 0. 0. 0. 0. 0. 0. 0. 0.]\n",
      " [0. 0. 0. 0. 0. 0. 0. 0. 0. 0.]\n",
      " [0. 0. 0. 0. 0. 0. 0. 0. 0. 0.]]\n"
     ]
    }
   ],
   "source": [
    "print(board(10))"
   ]
  },
  {
   "cell_type": "markdown",
   "metadata": {},
   "source": [
    "#### Definimos una funcion que crea un tablero con un numero de barcos determinado de tamaño uno."
   ]
  },
  {
   "cell_type": "code",
   "execution_count": 264,
   "metadata": {
    "ExecuteTime": {
     "end_time": "2020-03-27T16:25:56.670538Z",
     "start_time": "2020-03-27T16:25:56.664555Z"
    }
   },
   "outputs": [],
   "source": [
    "def boardship_size1(n, s):\n",
    "    \"\"\"\n",
    "    Function that create a board nxn with boats of 1 shape in a random position.\n",
    "    input:\n",
    "    \n",
    "    n - size of the board\n",
    "    s - number of battleships with size one.\n",
    "    \n",
    "    output:\n",
    "    \n",
    "    board NxN with s boats of size one in a random position.\n",
    "    \n",
    "    \"\"\"\n",
    "    boardship = board(n)\n",
    "    positions = [(i,j) for i in range(n) for j in range(n)]\n",
    "    sample = random.sample(positions, s)\n",
    "    \n",
    "    for position in sample:\n",
    "        boardship[position[0]][position[1]] = 1\n",
    "    return boardship"
   ]
  },
  {
   "cell_type": "code",
   "execution_count": 265,
   "metadata": {
    "ExecuteTime": {
     "end_time": "2020-03-27T16:25:56.849324Z",
     "start_time": "2020-03-27T16:25:56.838355Z"
    }
   },
   "outputs": [
    {
     "name": "stdout",
     "output_type": "stream",
     "text": [
      "[[0. 0. 0. 0. 0. 0. 0. 0. 0. 0.]\n",
      " [0. 0. 0. 0. 0. 0. 0. 0. 0. 0.]\n",
      " [0. 0. 0. 0. 1. 0. 0. 0. 0. 0.]\n",
      " [0. 0. 0. 0. 0. 0. 0. 0. 0. 0.]\n",
      " [0. 0. 0. 0. 0. 0. 0. 0. 0. 0.]\n",
      " [0. 0. 0. 0. 0. 0. 0. 0. 0. 0.]\n",
      " [0. 0. 0. 0. 0. 0. 0. 0. 0. 0.]\n",
      " [0. 0. 0. 0. 0. 0. 0. 0. 0. 0.]\n",
      " [0. 0. 0. 0. 0. 0. 0. 0. 0. 0.]\n",
      " [0. 0. 0. 0. 0. 0. 0. 0. 0. 0.]]\n"
     ]
    }
   ],
   "source": [
    "print(boardship_size1(10,1))"
   ]
  },
  {
   "cell_type": "code",
   "execution_count": 266,
   "metadata": {
    "ExecuteTime": {
     "end_time": "2020-03-27T16:25:57.054775Z",
     "start_time": "2020-03-27T16:25:57.038822Z"
    }
   },
   "outputs": [
    {
     "name": "stdout",
     "output_type": "stream",
     "text": [
      "[[0. 0. 0. 0. 0. 0. 0. 1. 0. 0.]\n",
      " [0. 0. 0. 1. 0. 0. 1. 0. 0. 1.]\n",
      " [0. 0. 0. 0. 0. 0. 0. 0. 0. 0.]\n",
      " [1. 0. 0. 0. 0. 0. 0. 0. 0. 0.]\n",
      " [0. 0. 0. 0. 0. 0. 0. 0. 0. 0.]\n",
      " [0. 1. 0. 0. 0. 0. 1. 0. 0. 1.]\n",
      " [0. 0. 0. 0. 0. 0. 0. 0. 0. 0.]\n",
      " [0. 0. 0. 0. 0. 0. 0. 1. 0. 1.]\n",
      " [0. 0. 0. 0. 0. 0. 0. 0. 0. 0.]\n",
      " [0. 0. 0. 0. 0. 0. 0. 0. 0. 0.]]\n"
     ]
    }
   ],
   "source": [
    "print(boardship_size1(10,10))"
   ]
  },
  {
   "cell_type": "markdown",
   "metadata": {},
   "source": [
    "#### Diferente tipos de estrategias para destruir los barcos"
   ]
  },
  {
   "cell_type": "markdown",
   "metadata": {
    "ExecuteTime": {
     "end_time": "2020-03-27T16:08:25.098812Z",
     "start_time": "2020-03-27T16:08:25.090832Z"
    }
   },
   "source": [
    "Defino una funcion random_attack que buscara los barcos de forma totalmente aleatoria.\n",
    "Nos devolvera el numero de intentos necesarios hasta conseguir destruir todos los barcos."
   ]
  },
  {
   "cell_type": "code",
   "execution_count": 267,
   "metadata": {
    "ExecuteTime": {
     "end_time": "2020-03-27T16:25:57.555972Z",
     "start_time": "2020-03-27T16:25:57.546000Z"
    }
   },
   "outputs": [],
   "source": [
    "def random_attack(boardship):\n",
    "    \"\"\"\n",
    "    Function that attack a board nxn with boats with random attack\n",
    "    \n",
    "    input:\n",
    "    \n",
    "    Board of nxn size with s ships\n",
    "    \n",
    "    output:\n",
    "    \n",
    "    number_of_tries - number of tries until destroy all boats with a random method\n",
    "    \n",
    "    \"\"\"\n",
    "    n = boardship.shape[0]\n",
    "    \n",
    "    positions = [(i,j) for i in range(n) for j in range(n)]\n",
    "    random.shuffle(positions)\n",
    "\n",
    "    number_of_tries = 0\n",
    "    while boardship.any():\n",
    "\n",
    "        if boardship[positions[number_of_tries][0]][positions[number_of_tries][1]] == 1:\n",
    "            boardship[positions[number_of_tries][0]][positions[number_of_tries][1]] = 0\n",
    "            number_of_tries += 1\n",
    "        else:\n",
    "            number_of_tries += 1\n",
    "\n",
    "    return number_of_tries\n"
   ]
  },
  {
   "cell_type": "code",
   "execution_count": 268,
   "metadata": {
    "ExecuteTime": {
     "end_time": "2020-03-27T16:25:57.724522Z",
     "start_time": "2020-03-27T16:25:57.715545Z"
    }
   },
   "outputs": [
    {
     "data": {
      "text/plain": [
       "97"
      ]
     },
     "execution_count": 268,
     "metadata": {},
     "output_type": "execute_result"
    }
   ],
   "source": [
    "print(random_attack(boardship_size1(10,10)))"
   ]
  },
  {
   "cell_type": "markdown",
   "metadata": {
    "ExecuteTime": {
     "end_time": "2020-03-27T16:18:49.373742Z",
     "start_time": "2020-03-27T16:18:49.366765Z"
    }
   },
   "source": [
    "Aqui defino una funcion Linear_attack que buscara los barcos de forma lineal recorriendo las casillas una por una empezando por la superior izquerda. Nos devolvera el numero de intentos necesarios hasta conseguir destruir todos los barcos"
   ]
  },
  {
   "cell_type": "code",
   "execution_count": 269,
   "metadata": {
    "ExecuteTime": {
     "end_time": "2020-03-27T16:25:58.253138Z",
     "start_time": "2020-03-27T16:25:58.245157Z"
    }
   },
   "outputs": [],
   "source": [
    "def linear_attack(boardship):\n",
    "    \"\"\"\n",
    "    Function that attack a board nxn with boats with a linear attack, \n",
    "    (0, 0) - (0, 1) - (0, 2) - ... - (n, n)\n",
    "    \n",
    "    input:\n",
    "    \n",
    "    Board of nxn size with s ships\n",
    "    \n",
    "    output:\n",
    "    \n",
    "    number_of_tries - number of tries until destroy all boats with a linear method\n",
    "    \n",
    "    \"\"\"\n",
    "    n = boardship.shape[0]\n",
    "    \n",
    "    positions = [(i,j) for i in range(n) for j in range(n)]\n",
    "\n",
    "    number_of_tries = 0\n",
    "    while boardship.any():\n",
    "\n",
    "        if boardship[positions[number_of_tries][0]][positions[number_of_tries][1]] == 1:\n",
    "            boardship[positions[number_of_tries][0]][positions[number_of_tries][1]] = 0\n",
    "            number_of_tries += 1\n",
    "        else:\n",
    "            number_of_tries += 1\n",
    "\n",
    "    return number_of_tries"
   ]
  },
  {
   "cell_type": "code",
   "execution_count": 271,
   "metadata": {
    "ExecuteTime": {
     "end_time": "2020-03-27T16:26:01.932992Z",
     "start_time": "2020-03-27T16:26:01.924015Z"
    }
   },
   "outputs": [
    {
     "data": {
      "text/plain": [
       "95"
      ]
     },
     "execution_count": 271,
     "metadata": {},
     "output_type": "execute_result"
    }
   ],
   "source": [
    "print(linear_attack(boardship_size1(10,10)))"
   ]
  },
  {
   "cell_type": "markdown",
   "metadata": {},
   "source": [
    "#### Simulaciones del tablero con 10 barcos de tamaño uno"
   ]
  },
  {
   "cell_type": "markdown",
   "metadata": {},
   "source": [
    "En primer lugar realizamos las simulaciones, la primera con un ataque aleatorio y la segunda con el ataque lineal "
   ]
  },
  {
   "cell_type": "code",
   "execution_count": 272,
   "metadata": {
    "ExecuteTime": {
     "end_time": "2020-03-27T16:36:41.794427Z",
     "start_time": "2020-03-27T16:26:04.160736Z"
    }
   },
   "outputs": [],
   "source": [
    "simulation_sample_1 = np.array([random_attack(boardship_size1(10,10)) for i in range(1000000)])"
   ]
  },
  {
   "cell_type": "code",
   "execution_count": 273,
   "metadata": {
    "ExecuteTime": {
     "end_time": "2020-03-27T16:44:14.979846Z",
     "start_time": "2020-03-27T16:36:41.943032Z"
    }
   },
   "outputs": [],
   "source": [
    "simulation_sample_2 = np.array([linear_attack(boardship_size1(10,10)) for i in range(1000000)])"
   ]
  },
  {
   "cell_type": "code",
   "execution_count": 312,
   "metadata": {
    "ExecuteTime": {
     "end_time": "2020-03-27T18:39:59.408749Z",
     "start_time": "2020-03-27T18:39:59.333581Z"
    }
   },
   "outputs": [
    {
     "name": "stdout",
     "output_type": "stream",
     "text": [
      "La media de la primera simulacion es 91.807874\n",
      "La media de la segunda simulacion es 91.807546\n",
      "La mediana de la primera simulacion es 94.0\n",
      "La mediana de la segunda simulacion es 94.0\n",
      "La desviacion estandar de la primera simulacion es 7.920339740195746\n",
      "La desviacion estandar de la segunda simulacion es 7.9138634975518745\n"
     ]
    }
   ],
   "source": [
    "print(f'La media de la primera simulacion es {np.mean(simulation_sample_1)}')\n",
    "print(f'La media de la segunda simulacion es {np.mean(simulation_sample_2)}')\n",
    "print(f'La mediana de la primera simulacion es {np.median(simulation_sample_1)}')\n",
    "print(f'La mediana de la segunda simulacion es {np.median(simulation_sample_2)}')\n",
    "print(f'La desviacion estandar de la primera simulacion es {np.std(simulation_sample_1)}')\n",
    "print(f'La desviacion estandar de la segunda simulacion es {np.std(simulation_sample_2)}')"
   ]
  },
  {
   "cell_type": "markdown",
   "metadata": {},
   "source": [
    "Como podemos observar ambos metodos tienen una media y una desviacion estandar muy similar. Cuando las dibujamos podemos observar que son practicamente iguales (si las dibujamos en la misma grafica se superponen)"
   ]
  },
  {
   "cell_type": "code",
   "execution_count": 281,
   "metadata": {
    "ExecuteTime": {
     "end_time": "2020-03-27T16:53:00.539250Z",
     "start_time": "2020-03-27T16:52:59.285512Z"
    },
    "scrolled": true
   },
   "outputs": [
    {
     "data": {
      "text/plain": [
       "[<matplotlib.lines.Line2D at 0x23883df1408>]"
      ]
     },
     "execution_count": 281,
     "metadata": {},
     "output_type": "execute_result"
    },
    {
     "data": {
      "image/png": "[encoded data removed]",
      "text/plain": [
       "<Figure size 1440x720 with 2 Axes>"
      ]
     },
     "metadata": {
      "needs_background": "light"
     },
     "output_type": "display_data"
    }
   ],
   "source": [
    "x = np.arange(101)\n",
    "y_1 = np.bincount(simulation_sample_1) \n",
    "y_2 = np.bincount(simulation_sample_2)\n",
    "plt.figure(figsize=(20,10))\n",
    "plt.subplot(211)\n",
    "plt.plot(x,y_1, '-')\n",
    "plt.subplot(212)\n",
    "plt.plot(x,y_2, '-')"
   ]
  },
  {
   "cell_type": "markdown",
   "metadata": {},
   "source": [
    "Dado que no son distribuciones normales (se parece mas a la exponencial) podemos utilizar spearman para ver la correlacion entre ambas variables"
   ]
  },
  {
   "cell_type": "code",
   "execution_count": 304,
   "metadata": {
    "ExecuteTime": {
     "end_time": "2020-03-27T18:11:02.916070Z",
     "start_time": "2020-03-27T18:11:02.904101Z"
    }
   },
   "outputs": [
    {
     "name": "stdout",
     "output_type": "stream",
     "text": [
      "SpearmanrResult(correlation=0.9978404465887207, pvalue=6.803325009230608e-119)\n",
      "Ttest_relResult(statistic=0.0, pvalue=1.0)\n"
     ]
    },
    {
     "data": {
      "text/plain": [
       "'Spearman nos da un correlacion de casi 1'"
      ]
     },
     "execution_count": 304,
     "metadata": {},
     "output_type": "execute_result"
    }
   ],
   "source": [
    "print(stats.spearmanr(y_1,y_2))\n",
    "print(stats.ttest_rel(y_1,y_2))\n",
    "\n",
    "\"\"\"Spearman nos da un correlacion de practicamente 1\"\"\"\n"
   ]
  },
  {
   "cell_type": "markdown",
   "metadata": {},
   "source": [
    "Por tanto, la conclusion es que con ambas estrategias tenemos los mismos resultados. Aqui muestro su funcion acumulativa de probabilidad\n"
   ]
  },
  {
   "cell_type": "code",
   "execution_count": 327,
   "metadata": {
    "ExecuteTime": {
     "end_time": "2020-03-27T18:52:18.781371Z",
     "start_time": "2020-03-27T18:52:18.485144Z"
    }
   },
   "outputs": [
    {
     "data": {
      "text/plain": [
       "[<matplotlib.lines.Line2D at 0x23886ef1f88>]"
      ]
     },
     "execution_count": 327,
     "metadata": {},
     "output_type": "execute_result"
    },
    {
     "data": {
      "image/png": "[encoded data removed]",
      "text/plain": [
       "<Figure size 1440x720 with 1 Axes>"
      ]
     },
     "metadata": {
      "needs_background": "light"
     },
     "output_type": "display_data"
    }
   ],
   "source": [
    "z_1 = np.cumsum(y_1/1000000)\n",
    "plt.figure(figsize=(20,10))\n",
    "plt.plot(x,z_1, '-')\n"
   ]
  },
  {
   "cell_type": "markdown",
   "metadata": {
    "ExecuteTime": {
     "end_time": "2020-03-27T18:08:23.521358Z",
     "start_time": "2020-03-27T18:08:23.518362Z"
    }
   },
   "source": [
    "#### Simulacion con un tablero y 1 solo barco de tamano 1"
   ]
  },
  {
   "cell_type": "markdown",
   "metadata": {},
   "source": [
    "Aqui hacemos la simulacion con solo un barco de size uno "
   ]
  },
  {
   "cell_type": "code",
   "execution_count": 296,
   "metadata": {
    "ExecuteTime": {
     "end_time": "2020-03-27T18:04:19.353952Z",
     "start_time": "2020-03-27T17:58:42.665563Z"
    }
   },
   "outputs": [],
   "source": [
    "simulation_sample_3 = np.array([random_attack(boardship_size1(10,1)) for i in range(1000000)])"
   ]
  },
  {
   "cell_type": "code",
   "execution_count": 297,
   "metadata": {
    "ExecuteTime": {
     "end_time": "2020-03-27T18:08:23.347771Z",
     "start_time": "2020-03-27T18:04:19.490370Z"
    }
   },
   "outputs": [],
   "source": [
    "simulation_sample_4 = np.array([linear_attack(boardship_size1(10,1)) for i in range(1000000)])"
   ]
  },
  {
   "cell_type": "code",
   "execution_count": 320,
   "metadata": {
    "ExecuteTime": {
     "end_time": "2020-03-27T18:44:22.077087Z",
     "start_time": "2020-03-27T18:44:21.988788Z"
    }
   },
   "outputs": [
    {
     "name": "stdout",
     "output_type": "stream",
     "text": [
      "La media de la primera simulacion es 50.50167\n",
      "La media de la segunda simulacion es 50.451942\n",
      "La mediana de la primera simulacion es 50.0\n",
      "La mediana de la segunda simulacion es 50.0\n",
      "La desviacion estandar de la primera simulacion es 28.860170360049853\n",
      "La desviacion estandar de la segunda simulacion es 28.852169769856754\n"
     ]
    }
   ],
   "source": [
    "print(f'La media de la primera simulacion es {np.mean(simulation_sample_3)}')\n",
    "print(f'La media de la segunda simulacion es {np.mean(simulation_sample_4)}')\n",
    "print(f'La mediana de la primera simulacion es {np.median(simulation_sample_3)}')\n",
    "print(f'La mediana de la segunda simulacion es {np.median(simulation_sample_4)}')\n",
    "print(f'La desviacion estandar de la primera simulacion es {np.std(simulation_sample_3)}')\n",
    "print(f'La desviacion estandar de la segunda simulacion es {np.std(simulation_sample_4)}')"
   ]
  },
  {
   "cell_type": "code",
   "execution_count": 303,
   "metadata": {
    "ExecuteTime": {
     "end_time": "2020-03-27T18:08:47.794322Z",
     "start_time": "2020-03-27T18:08:47.219703Z"
    }
   },
   "outputs": [
    {
     "data": {
      "text/plain": [
       "[<matplotlib.lines.Line2D at 0x23886645d48>]"
      ]
     },
     "execution_count": 303,
     "metadata": {},
     "output_type": "execute_result"
    },
    {
     "data": {
      "image/png": "[encoded data removed]",
      "text/plain": [
       "<Figure size 1440x720 with 2 Axes>"
      ]
     },
     "metadata": {
      "needs_background": "light"
     },
     "output_type": "display_data"
    }
   ],
   "source": [
    "x = np.arange(101)\n",
    "y_3 = np.bincount(simulation_sample_3) \n",
    "y_4 = np.bincount(simulation_sample_4)\n",
    "plt.figure(figsize=(20,10))\n",
    "plt.subplot(211)\n",
    "plt.plot(x,y_3, 'o')\n",
    "plt.subplot(212)\n",
    "plt.plot(x,y_4, 'o')"
   ]
  },
  {
   "cell_type": "code",
   "execution_count": 307,
   "metadata": {
    "ExecuteTime": {
     "end_time": "2020-03-27T18:12:35.797623Z",
     "start_time": "2020-03-27T18:12:35.707366Z"
    }
   },
   "outputs": [
    {
     "name": "stdout",
     "output_type": "stream",
     "text": [
      "(0.9906929611250299, 1.4584384406882014e-87)\n",
      "Ttest_relResult(statistic=0.0, pvalue=1.0)\n"
     ]
    },
    {
     "data": {
      "text/plain": [
       "'Spearman nos da un correlacion de casi 1'"
      ]
     },
     "execution_count": 307,
     "metadata": {},
     "output_type": "execute_result"
    }
   ],
   "source": [
    "print(stats.pearsonr(y_3,y_4))\n",
    "print(stats.ttest_rel(y_3,y_4))\n",
    "\n",
    "\"\"\"Pearson nos da un correlacion de casi 1\"\"\""
   ]
  },
  {
   "cell_type": "code",
   "execution_count": 328,
   "metadata": {
    "ExecuteTime": {
     "end_time": "2020-03-27T18:52:23.800722Z",
     "start_time": "2020-03-27T18:52:23.495317Z"
    }
   },
   "outputs": [
    {
     "data": {
      "text/plain": [
       "[<matplotlib.lines.Line2D at 0x23886f45848>]"
      ]
     },
     "execution_count": 328,
     "metadata": {},
     "output_type": "execute_result"
    },
    {
     "data": {
      "image/png": "[encoded data removed]",
      "text/plain": [
       "<Figure size 1440x720 with 1 Axes>"
      ]
     },
     "metadata": {
      "needs_background": "light"
     },
     "output_type": "display_data"
    }
   ],
   "source": [
    "z_3 = np.cumsum(y_3/1000000)\n",
    "plt.figure(figsize=(20,10))\n",
    "plt.plot(x,z_3, '-')"
   ]
  },
  {
   "cell_type": "markdown",
   "metadata": {},
   "source": [
    "#### Defino una funcion que crea un tablero con barcos de un size  dado."
   ]
  },
  {
   "cell_type": "code",
   "execution_count": 329,
   "metadata": {
    "ExecuteTime": {
     "end_time": "2020-03-27T18:56:40.647721Z",
     "start_time": "2020-03-27T18:56:40.631764Z"
    }
   },
   "outputs": [],
   "source": [
    "def boardship_size(n, size, s):\n",
    "    \"\"\"\n",
    "    Function that create a board nxn with boats of 2 shape in a random position.\n",
    "    input:\n",
    "    \n",
    "    n - size of the board\n",
    "    size - size of the ship\n",
    "    s - number of battleships with size.\n",
    "    \n",
    "    output:\n",
    "    \n",
    "    board NxN with s boats of size in a random position.\n",
    "    \n",
    "    \"\"\"\n",
    "\n",
    "    boardship = board(n)\n",
    "    positions = [(i,j) for i in range(n) for j in range(n)]\n",
    "\n",
    "    sample = []\n",
    "    limit_tries = 100\n",
    "    for i in range(s):\n",
    "        \n",
    "        repeat = True\n",
    "        while repeat and limit_tries > 0:\n",
    "            add = True\n",
    "            orientation = random.randint(0,1)\n",
    "\n",
    "            if orientation:\n",
    "                max_row = n-1\n",
    "                max_column = (n-1) - (size-1)\n",
    "            else:\n",
    "                max_row = (n-1) - (size-1)\n",
    "                max_column =  n-1\n",
    "\n",
    "            row = random.randint(0,max_row)\n",
    "            column = random.randint(0,max_column)\n",
    "            \n",
    "            ship = [(row,column+i) if orientation else (row+i,column) for i in range(size)]\n",
    "\n",
    "            for point in ship:\n",
    "                if point in sample:\n",
    "                    add = False\n",
    "\n",
    "            if add:\n",
    "                sample += ship\n",
    "                repeat= False\n",
    "            limit_tries -= 1\n",
    "            \n",
    "    if limit_tries ==0:\n",
    "        print('Excedido el numero de intentos, es posible que no se pueda contruir un boardship de este tipo')\n",
    "    \n",
    "    for position in sample:\n",
    "        boardship[position[0]][position[1]] = 1\n",
    "\n",
    "    return boardship"
   ]
  },
  {
   "cell_type": "code",
   "execution_count": 336,
   "metadata": {
    "ExecuteTime": {
     "end_time": "2020-03-27T18:57:58.473615Z",
     "start_time": "2020-03-27T18:57:58.465641Z"
    }
   },
   "outputs": [
    {
     "data": {
      "text/plain": [
       "array([[0., 0., 0., 0., 1., 0., 0., 0., 1., 0.],\n",
       "       [0., 0., 0., 0., 1., 0., 0., 0., 1., 0.],\n",
       "       [0., 0., 1., 0., 0., 0., 0., 0., 0., 0.],\n",
       "       [0., 0., 1., 0., 0., 1., 1., 0., 0., 0.],\n",
       "       [0., 0., 0., 0., 0., 0., 0., 0., 0., 0.],\n",
       "       [0., 0., 1., 0., 0., 0., 0., 0., 0., 0.],\n",
       "       [0., 0., 1., 0., 0., 1., 0., 0., 1., 0.],\n",
       "       [0., 0., 0., 1., 1., 1., 0., 0., 1., 0.],\n",
       "       [0., 0., 0., 0., 0., 0., 0., 0., 0., 1.],\n",
       "       [0., 0., 1., 1., 0., 0., 0., 0., 0., 1.]])"
      ]
     },
     "execution_count": 336,
     "metadata": {},
     "output_type": "execute_result"
    }
   ],
   "source": [
    "boardship_size(10, 2, 10) # tablero con 10 barcos de size 2\n"
   ]
  },
  {
   "cell_type": "markdown",
   "metadata": {},
   "source": [
    "Defino una nueva estrategia para atacar, cuando acierte mirara en las casillas adyacentes"
   ]
  },
  {
   "cell_type": "code",
   "execution_count": 532,
   "metadata": {
    "ExecuteTime": {
     "end_time": "2020-03-28T00:20:09.347189Z",
     "start_time": "2020-03-28T00:20:09.277378Z"
    }
   },
   "outputs": [],
   "source": [
    "def near_attack(boardship):\n",
    "    \"\"\"\n",
    "    Function that attack a board nxn with boats with a near attack\n",
    "    \n",
    "    input:\n",
    "    \n",
    "    Board of nxn size with s ships\n",
    "    \n",
    "    output:\n",
    "    \n",
    "    cont - number of tries until destroy all boats with a near method\n",
    "    \n",
    "    \"\"\"\n",
    "    n = boardship.shape[0]\n",
    "    \n",
    "    positions = [(i,j) for i in range(n) for j in range(n)]\n",
    "    random.shuffle(positions)\n",
    "\n",
    "    number_of_tries = 0\n",
    "    cont = 0\n",
    "    \n",
    "    while boardship.any():\n",
    "        \n",
    "        if boardship[positions[cont][0]][positions[cont][1]] == 1:\n",
    "            boardship[positions[cont][0]][positions[cont][1]] = 0\n",
    "            number_of_tries += 1\n",
    "            if (positions[cont][0] == 0) and (positions[cont][1] == 0):\n",
    "                if boardship[positions[cont][0]][positions[cont][1]+1] == 1:\n",
    "                    boardship[positions[cont][0]][positions[cont][1]+1] = 0\n",
    "                    number_of_tries += 1\n",
    "                    cont += 1\n",
    "                else:\n",
    "                    boardship[positions[cont][0]+1][positions[cont][1]] = 0\n",
    "                    number_of_tries += 2\n",
    "                    cont += 1\n",
    "            elif (positions[cont][0] == 0) and (positions[cont][1] == 9):\n",
    "                if boardship[positions[cont][0]][positions[cont][1]-1] == 1:\n",
    "                    boardship[positions[cont][0]][positions[cont][1]-1] = 0\n",
    "                    number_of_tries += 1\n",
    "                    cont += 1\n",
    "                else:\n",
    "                    boardship[positions[cont][0]+1][positions[cont][1]] = 0\n",
    "                    number_of_tries += 2\n",
    "                    cont += 1\n",
    "            elif positions[cont][0] == 9 and positions[cont][1] == 0:\n",
    "                if boardship[positions[cont][0]][positions[cont][1]+1] == 1:\n",
    "                    boardship[positions[cont][0]][positions[cont][1]+1] = 0\n",
    "                    number_of_tries += 1\n",
    "                    cont += 1\n",
    "                else:\n",
    "                    boardship[positions[cont][0]-1][positions[cont][1]] = 0\n",
    "                    number_of_tries += 2\n",
    "                    cont += 1\n",
    "            elif positions[cont][0] == 9 and positions[cont][1] == 9:\n",
    "                if boardship[positions[cont][0]][positions[cont][1]-1] == 1:\n",
    "                    boardship[positions[cont][0]][positions[cont][1]-1] = 0\n",
    "                    number_of_tries += 1\n",
    "                    cont += 1\n",
    "                else:\n",
    "                    boardship[positions[cont][0]-1][positions[cont][1]] = 0\n",
    "                    number_of_tries += 2\n",
    "                    cont += 1\n",
    "            elif positions[cont][0] == 0:\n",
    "                if boardship[positions[cont][0]][positions[cont][1]-1] == 1:\n",
    "                    boardship[positions[cont][0]][positions[cont][1]-1] = 0\n",
    "                    number_of_tries += 1\n",
    "                    cont += 1\n",
    "                elif boardship[positions[cont][0]][positions[cont][1]+1] == 1:\n",
    "                    boardship[positions[cont][0]][positions[cont][1]+1] = 0\n",
    "                    number_of_tries += 2\n",
    "                    cont += 1\n",
    "                else:\n",
    "                    boardship[positions[cont][0]+1][positions[cont][1]] = 0\n",
    "                    number_of_tries += 3\n",
    "                    cont += 1\n",
    "            elif positions[cont][0] == 9:\n",
    "                if boardship[positions[cont][0]][positions[cont][1]-1] == 1:\n",
    "                    boardship[positions[cont][0]][positions[cont][1]-1] = 0\n",
    "                    number_of_tries += 1\n",
    "                    cont += 1\n",
    "                elif boardship[positions[cont][0]][positions[cont][1]+1] == 1:\n",
    "                    boardship[positions[cont][0]][positions[cont][1]+1] = 0\n",
    "                    number_of_tries += 2\n",
    "                    cont += 1\n",
    "                else:\n",
    "                    boardship[positions[cont][0]-1][positions[cont][1]] = 0\n",
    "                    number_of_tries += 3\n",
    "                    cont += 1\n",
    "            elif positions[cont][1] == 0:\n",
    "                if boardship[positions[cont][0]+1][positions[cont][1]] == 1:\n",
    "                    boardship[positions[cont][0]+1][positions[cont][1]] = 0\n",
    "                    number_of_tries += 1\n",
    "                    cont += 1\n",
    "                elif boardship[positions[cont][0]-1][positions[cont][1]] == 1:\n",
    "                    boardship[positions[cont][0]-1][positions[cont][1]] = 0\n",
    "                    number_of_tries += 2\n",
    "                    cont += 1\n",
    "                else:\n",
    "                    boardship[positions[cont][0]][positions[cont][1]+1] = 0\n",
    "                    number_of_tries += 3\n",
    "                    cont += 1\n",
    "            elif positions[cont][1] == 9:\n",
    "                if boardship[positions[cont][0]+1][positions[cont][1]] == 1:\n",
    "                    boardship[positions[cont][0]+1][positions[cont][1]] = 0\n",
    "                    number_of_tries += 1\n",
    "                    cont += 1\n",
    "                elif boardship[positions[cont][0]-1][positions[cont][1]] == 1:\n",
    "                    boardship[positions[cont][0]-1][positions[cont][1]] = 0\n",
    "                    number_of_tries += 2\n",
    "                    cont += 1\n",
    "                else:\n",
    "                    boardship[positions[cont][0]][positions[cont][1]-1] = 0\n",
    "                    number_of_tries += 3\n",
    "                    cont += 1\n",
    "            else:\n",
    "                if boardship[positions[cont][0]+1][positions[cont][1]] == 1:\n",
    "                    boardship[positions[cont][0]+1][positions[cont][1]] == 0\n",
    "                    number_of_tries += 1\n",
    "                    cont += 1\n",
    "                elif boardship[positions[cont][0]-1][positions[cont][1]] == 1:\n",
    "                    boardship[positions[cont][0]-1][positions[cont][1]] == 0\n",
    "                    number_of_tries += 2\n",
    "                    cont += 1\n",
    "                elif boardship[positions[cont][0]][positions[cont][1]-1] == 1:\n",
    "                    boardship[positions[cont][0]][positions[cont][1]-1] = 0\n",
    "                    number_of_tries += 3\n",
    "                    cont += 1\n",
    "                else:\n",
    "                    boardship[positions[cont][0]][positions[cont][1]+1] = 0\n",
    "                    number_of_tries += 4\n",
    "                    cont += 1\n",
    "                    \n",
    "            \n",
    "        else:\n",
    "            number_of_tries += 1\n",
    "            cont += 1\n",
    "            \n",
    "            \n",
    "\n",
    "    return cont"
   ]
  },
  {
   "cell_type": "code",
   "execution_count": 595,
   "metadata": {
    "ExecuteTime": {
     "end_time": "2020-03-28T00:51:03.636722Z",
     "start_time": "2020-03-28T00:51:03.620767Z"
    }
   },
   "outputs": [],
   "source": [
    "def binary_attack(boardship):\n",
    "    \"\"\"\n",
    "    Function that attack a board nxn with boats with a near attack\n",
    "    \n",
    "    input:\n",
    "    \n",
    "    Board of nxn size with s ships\n",
    "    \n",
    "    output:\n",
    "    \n",
    "    cont - number of tries until destroy all boats with a near method\n",
    "    \n",
    "    \"\"\"\n",
    "    n = boardship.shape[0]\n",
    "    \n",
    "    positions = [(i,j) for i in range(n) for j in range(n)]\n",
    "    \n",
    "    attack_positions = [(i,j) for i in range(n) for j in range(n) if ((i+j) % 2 == 0)]\n",
    "\n",
    "    number_of_tries = 0\n",
    "    cont = 0\n",
    "    \n",
    "    while boardship.any():\n",
    "        if boardship[attack_positions[cont][0]][attack_positions[cont][1]] == 1:\n",
    "            boardship[attack_positions[cont][0]][attack_positions[cont][1]] = 0\n",
    "            number_of_tries +=1\n",
    "            if attack_positions[cont][0] % 2 == 0:\n",
    "                boardship[attack_positions[cont][0]][attack_positions[cont][1]+1] = 0\n",
    "                number_of_tries +=1\n",
    "            else:\n",
    "                boardship[attack_positions[cont][0]-1][attack_positions[cont][1]] = 0\n",
    "                number_of_tries +=1       \n",
    "        cont += 1\n",
    "\n",
    "    return number_of_tries"
   ]
  },
  {
   "cell_type": "markdown",
   "metadata": {},
   "source": [
    "#### Aqui realizamos las simulacion con nuestro random_attack y con near_attack"
   ]
  },
  {
   "cell_type": "code",
   "execution_count": 521,
   "metadata": {
    "ExecuteTime": {
     "end_time": "2020-03-28T00:14:16.119501Z",
     "start_time": "2020-03-28T00:03:23.459172Z"
    }
   },
   "outputs": [],
   "source": [
    "simulation_sample_5 = np.array([random_attack(boardship_size(10, 2, 10)) for i in range(1000000)])"
   ]
  },
  {
   "cell_type": "code",
   "execution_count": 569,
   "metadata": {
    "ExecuteTime": {
     "end_time": "2020-03-28T00:34:57.167592Z",
     "start_time": "2020-03-28T00:22:52.087650Z"
    }
   },
   "outputs": [],
   "source": [
    "simulation_sample_6 = np.array([near_attack(boardship_size(10, 2, 10)) for i in range(1000000)])"
   ]
  },
  {
   "cell_type": "code",
   "execution_count": 571,
   "metadata": {
    "ExecuteTime": {
     "end_time": "2020-03-28T00:42:37.377034Z",
     "start_time": "2020-03-28T00:42:37.300240Z"
    }
   },
   "outputs": [
    {
     "name": "stdout",
     "output_type": "stream",
     "text": [
      "La media de la primera simulacion es 96.190997\n",
      "La media de la segunda simulacion es 90.017209\n",
      "La mediana de la primera simulacion es 97.0\n",
      "La mediana de la segunda simulacion es 92.0\n",
      "La desviacion estandar de la primera simulacion es 4.082449405196714\n",
      "La desviacion estandar de la segunda simulacion es 9.06644124507069\n"
     ]
    }
   ],
   "source": [
    "print(f'La media de la primera simulacion es {np.mean(simulation_sample_5)}')\n",
    "print(f'La media de la segunda simulacion es {np.mean(simulation_sample_6)}')\n",
    "print(f'La mediana de la primera simulacion es {np.median(simulation_sample_5)}')\n",
    "print(f'La mediana de la segunda simulacion es {np.median(simulation_sample_6)}')\n",
    "print(f'La desviacion estandar de la primera simulacion es {np.std(simulation_sample_5)}')\n",
    "print(f'La desviacion estandar de la segunda simulacion es {np.std(simulation_sample_6)}')\n"
   ]
  },
  {
   "cell_type": "code",
   "execution_count": 737,
   "metadata": {
    "ExecuteTime": {
     "end_time": "2020-03-28T07:15:20.081105Z",
     "start_time": "2020-03-28T07:15:19.225394Z"
    }
   },
   "outputs": [
    {
     "data": {
      "text/plain": [
       "[<matplotlib.lines.Line2D at 0x23886680248>]"
      ]
     },
     "execution_count": 737,
     "metadata": {},
     "output_type": "execute_result"
    },
    {
     "data": {
      "image/png": "[encoded data removed]",
      "text/plain": [
       "<Figure size 1440x720 with 2 Axes>"
      ]
     },
     "metadata": {
      "needs_background": "light"
     },
     "output_type": "display_data"
    }
   ],
   "source": [
    "x = np.arange(101)\n",
    "y_5 = np.bincount(simulation_sample_5) \n",
    "y_6 = np.bincount(simulation_sample_6)\n",
    "plt.figure(figsize=(20,10))\n",
    "plt.subplot(211)\n",
    "plt.plot(x,y_5, '-')\n",
    "plt.subplot(212)\n",
    "plt.plot(x,y_6, '-')"
   ]
  },
  {
   "cell_type": "code",
   "execution_count": 738,
   "metadata": {
    "ExecuteTime": {
     "end_time": "2020-03-28T07:17:50.159352Z",
     "start_time": "2020-03-28T07:17:50.146386Z"
    }
   },
   "outputs": [
    {
     "data": {
      "text/plain": [
       "SpearmanrResult(correlation=0.9100384647748586, pvalue=1.2035867306468218e-39)"
      ]
     },
     "execution_count": 738,
     "metadata": {},
     "output_type": "execute_result"
    }
   ],
   "source": [
    "stats.spearmanr(y_5,y_6)"
   ]
  },
  {
   "cell_type": "code",
   "execution_count": 740,
   "metadata": {
    "ExecuteTime": {
     "end_time": "2020-03-28T07:38:06.749611Z",
     "start_time": "2020-03-28T07:31:06.811772Z"
    }
   },
   "outputs": [],
   "source": [
    "simulation_sample_7 = np.array([random_attack(boardship_size(10, 2, 1)) for i in range(1000000)])"
   ]
  },
  {
   "cell_type": "code",
   "execution_count": 741,
   "metadata": {
    "ExecuteTime": {
     "end_time": "2020-03-28T07:44:07.945699Z",
     "start_time": "2020-03-28T07:38:06.889239Z"
    }
   },
   "outputs": [],
   "source": [
    "simulation_sample_8 = np.array([near_attack(boardship_size(10, 2, 1)) for i in range(1000000)])"
   ]
  },
  {
   "cell_type": "code",
   "execution_count": 742,
   "metadata": {
    "ExecuteTime": {
     "end_time": "2020-03-28T07:44:08.130211Z",
     "start_time": "2020-03-28T07:44:08.070369Z"
    }
   },
   "outputs": [
    {
     "name": "stdout",
     "output_type": "stream",
     "text": [
      "La media de la primera simulacion es 67.359216\n",
      "La media de la segunda simulacion es 45.646665\n",
      "La mediana de la primera simulacion es 71.0\n",
      "La mediana de la segunda simulacion es 43.0\n",
      "La desviacion estandar de la primera simulacion es 23.428893697000376\n",
      "La desviacion estandar de la segunda simulacion es 28.453799559597925\n"
     ]
    }
   ],
   "source": [
    "print(f'La media de la primera simulacion es {np.mean(simulation_sample_7)}')\n",
    "print(f'La media de la segunda simulacion es {np.mean(simulation_sample_8)}')\n",
    "print(f'La mediana de la primera simulacion es {np.median(simulation_sample_7)}')\n",
    "print(f'La mediana de la segunda simulacion es {np.median(simulation_sample_8)}')\n",
    "print(f'La desviacion estandar de la primera simulacion es {np.std(simulation_sample_7)}')\n",
    "print(f'La desviacion estandar de la segunda simulacion es {np.std(simulation_sample_8)}')"
   ]
  },
  {
   "cell_type": "code",
   "execution_count": 743,
   "metadata": {
    "ExecuteTime": {
     "end_time": "2020-03-28T07:44:08.688714Z",
     "start_time": "2020-03-28T07:44:08.266844Z"
    }
   },
   "outputs": [
    {
     "data": {
      "text/plain": [
       "[<matplotlib.lines.Line2D at 0x23886e3efc8>]"
      ]
     },
     "execution_count": 743,
     "metadata": {},
     "output_type": "execute_result"
    },
    {
     "data": {
      "image/png": "[encoded data removed]",
      "text/plain": [
       "<Figure size 1440x720 with 2 Axes>"
      ]
     },
     "metadata": {
      "needs_background": "light"
     },
     "output_type": "display_data"
    }
   ],
   "source": [
    "x = np.arange(101)\n",
    "y_7 = np.bincount(simulation_sample_7) \n",
    "y_8 = np.bincount(simulation_sample_8)\n",
    "plt.figure(figsize=(20,10))\n",
    "plt.subplot(211)\n",
    "plt.plot(x,y_7, '-')\n",
    "plt.subplot(212)\n",
    "plt.plot(x,y_8, '-')"
   ]
  },
  {
   "cell_type": "code",
   "execution_count": 727,
   "metadata": {
    "ExecuteTime": {
     "end_time": "2020-03-28T01:45:07.196835Z",
     "start_time": "2020-03-28T01:45:07.182908Z"
    }
   },
   "outputs": [],
   "source": [
    "def probability_attack():\n",
    "    boardship = boardship_size(10, 2, 10)\n",
    "    \n",
    "    probability_board = boardship_size(10, 2, 10)\n",
    "\n",
    "    for i in range(10000):\n",
    "        probability_board += boardship_size(10, 2, 10)\n",
    "\n",
    "    cont = 0\n",
    "    while boardship.any():\n",
    "        if boardship[np.where(probability_board == np.max(probability_board))[0][0]][np.where(probability_board == np.max(probability_board))[1][0]] == 1:\n",
    "            boardship[np.where(probability_board == np.max(probability_board))[0][0]][np.where(probability_board == np.max(probability_board))[1][0]] = 0 \n",
    "            probability_board[np.where(probability_board == np.max(probability_board))[0][0]][np.where(probability_board == np.max(probability_board))[1][0]] = 0\n",
    "            cont+=1\n",
    "        else:\n",
    "            probability_board[np.where(probability_board == np.max(probability_board))[0][0]][np.where(probability_board == np.max(probability_board))[1][0]] = 0\n",
    "            cont+=1\n",
    "    return cont"
   ]
  },
  {
   "cell_type": "code",
   "execution_count": 744,
   "metadata": {
    "ExecuteTime": {
     "end_time": "2020-03-28T09:13:43.773267Z",
     "start_time": "2020-03-28T09:10:49.939636Z"
    }
   },
   "outputs": [],
   "source": [
    "simulation_sample_7 = np.array([ probability_attack() for i in range(100)])"
   ]
  },
  {
   "cell_type": "code",
   "execution_count": 745,
   "metadata": {
    "ExecuteTime": {
     "end_time": "2020-03-28T09:13:44.041551Z",
     "start_time": "2020-03-28T09:13:44.026593Z"
    }
   },
   "outputs": [
    {
     "data": {
      "text/plain": [
       "94.77"
      ]
     },
     "execution_count": 745,
     "metadata": {},
     "output_type": "execute_result"
    }
   ],
   "source": [
    "np.mean(simulation_sample_7)"
   ]
  },
  {
   "cell_type": "code",
   "execution_count": null,
   "metadata": {},
   "outputs": [],
   "source": []
  }
 ],
 "metadata": {
  "kernelspec": {
   "display_name": "Python 3",
   "language": "python",
   "name": "python3"
  },
  "language_info": {
   "codemirror_mode": {
    "name": "ipython",
    "version": 3
   },
   "file_extension": ".py",
   "mimetype": "text/x-python",
   "name": "python",
   "nbconvert_exporter": "python",
   "pygments_lexer": "ipython3",
   "version": "3.7.4"
  },
  "varInspector": {
   "cols": {
    "lenName": 16,
    "lenType": 16,
    "lenVar": 40
   },
   "kernels_config": {
    "python": {
     "delete_cmd_postfix": "",
     "delete_cmd_prefix": "del ",
     "library": "var_list.py",
     "varRefreshCmd": "print(var_dic_list())"
    },
    "r": {
     "delete_cmd_postfix": ") ",
     "delete_cmd_prefix": "rm(",
     "library": "var_list.r",
     "varRefreshCmd": "cat(var_dic_list()) "
    }
   },
   "types_to_exclude": [
    "module",
    "function",
    "builtin_function_or_method",
    "instance",
    "_Feature"
   ],
   "window_display": false
  }
 },
 "nbformat": 4,
 "nbformat_minor": 2
}
